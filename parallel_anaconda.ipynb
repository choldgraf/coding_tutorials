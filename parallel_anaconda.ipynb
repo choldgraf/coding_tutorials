{
 "metadata": {
  "name": ""
 },
 "nbformat": 3,
 "nbformat_minor": 0,
 "worksheets": [
  {
   "cells": [
    {
     "cell_type": "markdown",
     "metadata": {},
     "source": [
      "####Install Anaconda\n",
      "\n",
      "####Open your ~/.bashrc file "
     ]
    },
    {
     "cell_type": "code",
     "collapsed": false,
     "input": [
      "!open ~/.bash_profile"
     ],
     "language": "python",
     "metadata": {},
     "outputs": [],
     "prompt_number": 8
    },
    {
     "cell_type": "markdown",
     "metadata": {},
     "source": [
      "- Remove any section that mentions anaconda in it. But keep whatever you remove somewhere, you'll need it in a minute.\n",
      "- Add to your bashrc file:\n",
      "\n",
      "```\n",
      "# This starts an anaconda shell session\n",
      "alias anaconda-start='bash --rcfile $HOME/.bashrc_anaconda'\n",
      "```"
     ]
    },
    {
     "cell_type": "markdown",
     "metadata": {},
     "source": [
      "Here's what was installed by Anaconda\n",
      ">```\n",
      "# added by Anaconda 1.7.0 installer\n",
      "export PATH=\"/Users/choldgraf/anaconda/bin:$PATH\"\n",
      "```"
     ]
    },
    {
     "cell_type": "markdown",
     "metadata": {},
     "source": [
      "####Create a file in your home directory called .bashrc_anaconda"
     ]
    },
    {
     "cell_type": "code",
     "collapsed": false,
     "input": [
      "!touch ~/.bash_profile_anaconda\n",
      "!open ~/.bash_profile_anaconda"
     ],
     "language": "python",
     "metadata": {},
     "outputs": [],
     "prompt_number": 7
    },
    {
     "cell_type": "markdown",
     "metadata": {},
     "source": [
      "####Insert the following.\n",
      "(Note that we've also added the lines Anaconda originally added to the path)\n",
      "\n",
      "```\n",
      "echo \"**************************************************\"\n",
      "echo \"This shell has been configured for Anaconda usage.\"\n",
      "echo \"Once you are finished, use Ctrl-D to terminate\"\n",
      "echo \"And return to your normal shell.\"\n",
      "echo \"**************************************************\"\n",
      "\n",
      "# Change prompt to let user know this is a special shell\n",
      "PS1=\"(Anaconda)$PS1\"\n",
      "\n",
      "# Set pythonpath to only see the anaconda one\n",
      "export PYTHONPATH=\"~/anaconda/lib/\"\n",
      "\n",
      "# Set path to find anaconda files\n",
      "# added by Anaconda 1.7.0 installer\n",
      "export PATH=\"/Users/choldgraf/anaconda/bin:$PATH\"\n",
      "```"
     ]
    },
    {
     "cell_type": "markdown",
     "metadata": {},
     "source": [
      "####To start your anaconda-configured shell, simply type\n",
      "\n",
      "```anaconda-start```"
     ]
    },
    {
     "cell_type": "code",
     "collapsed": false,
     "input": [
      "!anaconda-start"
     ],
     "language": "python",
     "metadata": {},
     "outputs": [
      {
       "output_type": "stream",
       "stream": "stdout",
       "text": [
        "/bin/sh: anaconda-start: command not found\r\n"
       ]
      }
     ],
     "prompt_number": 6
    },
    {
     "cell_type": "code",
     "collapsed": false,
     "input": [],
     "language": "python",
     "metadata": {},
     "outputs": []
    }
   ],
   "metadata": {}
  }
 ]
}